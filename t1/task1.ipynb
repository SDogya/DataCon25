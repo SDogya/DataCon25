{
  "cells": [
    {
      "cell_type": "code",
      "execution_count": 3,
      "metadata": {
        "colab": {
          "base_uri": "https://localhost:8080/"
        },
        "id": "xixxrr4k83af",
        "outputId": "1d18fe7a-256f-4e13-fac9-ed11677e39ea"
      },
      "outputs": [
        {
          "name": "stdout",
          "output_type": "stream",
          "text": [
            "Requirement already satisfied: chembl_webresource_client in /usr/local/lib/python3.11/dist-packages (0.10.9)\n",
            "Requirement already satisfied: urllib3 in /usr/local/lib/python3.11/dist-packages (from chembl_webresource_client) (2.4.0)\n",
            "Requirement already satisfied: requests>=2.18.4 in /usr/local/lib/python3.11/dist-packages (from chembl_webresource_client) (2.32.3)\n",
            "Requirement already satisfied: requests-cache~=1.2 in /usr/local/lib/python3.11/dist-packages (from chembl_webresource_client) (1.2.1)\n",
            "Requirement already satisfied: easydict in /usr/local/lib/python3.11/dist-packages (from chembl_webresource_client) (1.13)\n",
            "Requirement already satisfied: charset-normalizer<4,>=2 in /usr/local/lib/python3.11/dist-packages (from requests>=2.18.4->chembl_webresource_client) (3.4.2)\n",
            "Requirement already satisfied: idna<4,>=2.5 in /usr/local/lib/python3.11/dist-packages (from requests>=2.18.4->chembl_webresource_client) (3.10)\n",
            "Requirement already satisfied: certifi>=2017.4.17 in /usr/local/lib/python3.11/dist-packages (from requests>=2.18.4->chembl_webresource_client) (2025.6.15)\n",
            "Requirement already satisfied: attrs>=21.2 in /usr/local/lib/python3.11/dist-packages (from requests-cache~=1.2->chembl_webresource_client) (25.3.0)\n",
            "Requirement already satisfied: cattrs>=22.2 in /usr/local/lib/python3.11/dist-packages (from requests-cache~=1.2->chembl_webresource_client) (25.1.1)\n",
            "Requirement already satisfied: platformdirs>=2.5 in /usr/local/lib/python3.11/dist-packages (from requests-cache~=1.2->chembl_webresource_client) (4.3.8)\n",
            "Requirement already satisfied: url-normalize>=1.4 in /usr/local/lib/python3.11/dist-packages (from requests-cache~=1.2->chembl_webresource_client) (2.2.1)\n",
            "Requirement already satisfied: typing-extensions>=4.12.2 in /usr/local/lib/python3.11/dist-packages (from cattrs>=22.2->requests-cache~=1.2->chembl_webresource_client) (4.14.1)\n",
            "Collecting rdkit\n",
            "  Downloading rdkit-2025.3.3-cp311-cp311-manylinux_2_28_x86_64.whl.metadata (4.0 kB)\n",
            "Requirement already satisfied: numpy in /usr/local/lib/python3.11/dist-packages (from rdkit) (2.0.2)\n",
            "Requirement already satisfied: Pillow in /usr/local/lib/python3.11/dist-packages (from rdkit) (11.2.1)\n",
            "Downloading rdkit-2025.3.3-cp311-cp311-manylinux_2_28_x86_64.whl (34.9 MB)\n",
            "\u001b[2K   \u001b[90m━━━━━━━━━━━━━━━━━━━━━━━━━━━━━━━━━━━━━━━━\u001b[0m \u001b[32m34.9/34.9 MB\u001b[0m \u001b[31m52.7 MB/s\u001b[0m eta \u001b[36m0:00:00\u001b[0m\n",
            "\u001b[?25hInstalling collected packages: rdkit\n",
            "Successfully installed rdkit-2025.3.3\n"
          ]
        }
      ],
      "source": [
        "# Установка необходимой библиотеки\n",
        "!pip install chembl_webresource_client\n",
        "!pip install rdkit\n"
      ]
    },
    {
      "cell_type": "code",
      "execution_count": 1,
      "metadata": {
        "colab": {
          "base_uri": "https://localhost:8080/",
          "height": 314
        },
        "id": "Pa22VINH8yhZ",
        "outputId": "027c7513-2110-46c7-ddde-62db901c0bd8"
      },
      "outputs": [],
      "source": [
        "\n",
        "from chembl_webresource_client.new_client import new_client\n",
        "import pandas as pd\n",
        "from rdkit import Chem\n",
        "from rdkit.Chem import Descriptors, Lipinski\n"
      ]
    },
    {
      "cell_type": "markdown",
      "metadata": {},
      "source": [
        "### 1. Загрузить данные и сразу по активности"
      ]
    },
    {
      "cell_type": "code",
      "execution_count": null,
      "metadata": {},
      "outputs": [],
      "source": [
        "\n",
        "# https://hub.2i2c.mybinder.org/user/chembl-chembl_webresource_client-2sd6tiv1/notebooks/demo_wrc.ipynb\n",
        "target = new_client.target\n",
        "activity = new_client.activity\n",
        "\n",
        "# Загрузка данных для мишени CHEMBL230 и фильтруем по активности\n",
        "res = activity.filter(target_chembl_id='CHEMBL230').filter(standard_type=\"IC50\")\n",
        "# оно загружается как словарь, делаем из него dataframe\n",
        "# я пытался запускать это локально но оно очень долго работает лучше запускать в colabe\n",
        "# но даже в нём оно может думать оч долго\n",
        "df = pd.DataFrame.from_dict(res)\n",
        "\n",
        "print(f\"кол-во записей: {len(df)}\")\n",
        "df.head(3)"
      ]
    },
    {
      "cell_type": "code",
      "execution_count": 2,
      "metadata": {
        "id": "EAmAqQCZF11L"
      },
      "outputs": [
        {
          "ename": "NameError",
          "evalue": "name 'df' is not defined",
          "output_type": "error",
          "traceback": [
            "\u001b[31m---------------------------------------------------------------------------\u001b[39m",
            "\u001b[31mNameError\u001b[39m                                 Traceback (most recent call last)",
            "\u001b[36mCell\u001b[39m\u001b[36m \u001b[39m\u001b[32mIn[2]\u001b[39m\u001b[32m, line 2\u001b[39m\n\u001b[32m      1\u001b[39m \u001b[38;5;66;03m# 4 MB ИНФОРМАЦИИ\u001b[39;00m\n\u001b[32m----> \u001b[39m\u001b[32m2\u001b[39m \u001b[43mdf\u001b[49m.to_csv(\u001b[33m\"\u001b[39m\u001b[33murablyatskachalos.csv\u001b[39m\u001b[33m\"\u001b[39m)\n",
            "\u001b[31mNameError\u001b[39m: name 'df' is not defined"
          ]
        }
      ],
      "source": [
        "# 4 MB ИНФОРМАЦИИ\n",
        "df.to_csv(\"urablyatskachalos.csv\")"
      ]
    },
    {
      "cell_type": "markdown",
      "metadata": {},
      "source": [
        "### DROPNA"
      ]
    },
    {
      "cell_type": "code",
      "execution_count": 4,
      "metadata": {
        "colab": {
          "base_uri": "https://localhost:8080/"
        },
        "id": "iNpIffQzF6RK",
        "outputId": "73f17061-93db-41c2-f521-8870ea4622b5"
      },
      "outputs": [
        {
          "name": "stdout",
          "output_type": "stream",
          "text": [
            "кол-во записей до: 7979\n",
            "кол-во записей по: 6977\n"
          ]
        }
      ],
      "source": [
        "df_filtered = pd.read_csv(\"urablyatskachalos.csv\")\n",
        "print(f\"кол-во записей до: {len(df_filtered)}\")\n",
        "df_filtered = df_filtered[['molecule_chembl_id', 'canonical_smiles', 'standard_relation', 'standard_value', 'standard_units']]\n",
        "\n",
        "# Удаление записей без standard_value или SMILES\n",
        "df_filtered = df_filtered.dropna(subset=['standard_value', 'canonical_smiles'])\n",
        "\n",
        "print(f\"кол-во записей по: {len(df_filtered)}\")"
      ]
    },
    {
      "cell_type": "markdown",
      "metadata": {},
      "source": [
        "### 3. Привести значения активности к единому формату"
      ]
    },
    {
      "cell_type": "code",
      "execution_count": null,
      "metadata": {
        "colab": {
          "base_uri": "https://localhost:8080/"
        },
        "id": "EmMfSvSbF98m",
        "outputId": "154f5ab1-6641-4282-f411-06dde5205c89"
      },
      "outputs": [
        {
          "name": "stdout",
          "output_type": "stream",
          "text": [
            "кол-во записей: 6950\n",
            "\n",
            "Конвертация успешно завершена. Все значения приведены к nM.\n"
          ]
        }
      ],
      "source": [
        "# Оставляем только записи с единицами nM и uM\n",
        "\n",
        "allowed_units = ['nM', 'uM']\n",
        "df_filtered = df_filtered[df_filtered['standard_units'].isin(allowed_units)]\n",
        "\n",
        "print(f\"кол-во записей: {len(df_filtered)}\")\n",
        "\n",
        "\n",
        "\n",
        "df_filtered['standard_value'] = pd.to_numeric(df_filtered['standard_value'])\n",
        "\n",
        "# Функция для конвертации в нМ\n",
        "def convert_to_nM(row):\n",
        "    if row['standard_units'] == 'uM':\n",
        "        return row['standard_value'] * 1000\n",
        "    return row['standard_value'] # Теперь здесь могут быть только 'nM'\n",
        "\n",
        "# Применяем конвертацию\n",
        "\n",
        "df_final = df_filtered.copy()\n",
        "df_final['standard_value_nM'] = df_final.apply(convert_to_nM, axis=1)\n"
      ]
    },
    {
      "cell_type": "markdown",
      "metadata": {},
      "source": [
        "### 5. Проверить корректность молекул"
      ]
    },
    {
      "cell_type": "code",
      "execution_count": 6,
      "metadata": {
        "colab": {
          "base_uri": "https://localhost:8080/",
          "height": 241
        },
        "id": "7tWPsDwrJrOH",
        "outputId": "86d047c2-ce01-411c-930c-105fff046bcc"
      },
      "outputs": [
        {
          "name": "stdout",
          "output_type": "stream",
          "text": [
            "колво валидных молекул: 6950\n"
          ]
        },
        {
          "data": {
            "application/vnd.microsoft.datawrangler.viewer.v0+json": {
              "columns": [
                {
                  "name": "index",
                  "rawType": "int64",
                  "type": "integer"
                },
                {
                  "name": "molecule_chembl_id",
                  "rawType": "object",
                  "type": "string"
                },
                {
                  "name": "canonical_smiles",
                  "rawType": "object",
                  "type": "string"
                },
                {
                  "name": "IC50_nM",
                  "rawType": "float64",
                  "type": "float"
                }
              ],
              "ref": "6e6a0637-df96-4b53-b029-a00472bbfbf7",
              "rows": [
                [
                  "0",
                  "CHEMBL297008",
                  "Cc1ccc(-c2ccc(S(C)(=O)=O)cc2)n1-c1ccccc1",
                  "60.0"
                ],
                [
                  "1",
                  "CHEMBL289813",
                  "Cc1c(C=O)cc(-c2ccc(S(C)(=O)=O)cc2)n1-c1ccc(F)cc1",
                  "3230.0"
                ],
                [
                  "2",
                  "CHEMBL43736",
                  "Cc1c(COc2cccc(Cl)c2)cc(-c2ccc(S(C)(=O)=O)cc2)n1-c1ccc(F)cc1",
                  "80.0"
                ],
                [
                  "3",
                  "CHEMBL140167",
                  "Fc1ccc(-c2[nH]c(-c3ccc(F)cc3)c3c2C2CCC3CC2)cc1",
                  "0.12"
                ],
                [
                  "4",
                  "CHEMBL44194",
                  "CCc1ccc(-c2ccc(S(C)(=O)=O)cc2)n1-c1ccc(F)cc1",
                  "100000.0"
                ]
              ],
              "shape": {
                "columns": 3,
                "rows": 5
              }
            },
            "text/html": [
              "<div>\n",
              "<style scoped>\n",
              "    .dataframe tbody tr th:only-of-type {\n",
              "        vertical-align: middle;\n",
              "    }\n",
              "\n",
              "    .dataframe tbody tr th {\n",
              "        vertical-align: top;\n",
              "    }\n",
              "\n",
              "    .dataframe thead th {\n",
              "        text-align: right;\n",
              "    }\n",
              "</style>\n",
              "<table border=\"1\" class=\"dataframe\">\n",
              "  <thead>\n",
              "    <tr style=\"text-align: right;\">\n",
              "      <th></th>\n",
              "      <th>molecule_chembl_id</th>\n",
              "      <th>canonical_smiles</th>\n",
              "      <th>IC50_nM</th>\n",
              "    </tr>\n",
              "  </thead>\n",
              "  <tbody>\n",
              "    <tr>\n",
              "      <th>0</th>\n",
              "      <td>CHEMBL297008</td>\n",
              "      <td>Cc1ccc(-c2ccc(S(C)(=O)=O)cc2)n1-c1ccccc1</td>\n",
              "      <td>60.00</td>\n",
              "    </tr>\n",
              "    <tr>\n",
              "      <th>1</th>\n",
              "      <td>CHEMBL289813</td>\n",
              "      <td>Cc1c(C=O)cc(-c2ccc(S(C)(=O)=O)cc2)n1-c1ccc(F)cc1</td>\n",
              "      <td>3230.00</td>\n",
              "    </tr>\n",
              "    <tr>\n",
              "      <th>2</th>\n",
              "      <td>CHEMBL43736</td>\n",
              "      <td>Cc1c(COc2cccc(Cl)c2)cc(-c2ccc(S(C)(=O)=O)cc2)n...</td>\n",
              "      <td>80.00</td>\n",
              "    </tr>\n",
              "    <tr>\n",
              "      <th>3</th>\n",
              "      <td>CHEMBL140167</td>\n",
              "      <td>Fc1ccc(-c2[nH]c(-c3ccc(F)cc3)c3c2C2CCC3CC2)cc1</td>\n",
              "      <td>0.12</td>\n",
              "    </tr>\n",
              "    <tr>\n",
              "      <th>4</th>\n",
              "      <td>CHEMBL44194</td>\n",
              "      <td>CCc1ccc(-c2ccc(S(C)(=O)=O)cc2)n1-c1ccc(F)cc1</td>\n",
              "      <td>100000.00</td>\n",
              "    </tr>\n",
              "  </tbody>\n",
              "</table>\n",
              "</div>"
            ],
            "text/plain": [
              "  molecule_chembl_id                                   canonical_smiles  \\\n",
              "0       CHEMBL297008           Cc1ccc(-c2ccc(S(C)(=O)=O)cc2)n1-c1ccccc1   \n",
              "1       CHEMBL289813   Cc1c(C=O)cc(-c2ccc(S(C)(=O)=O)cc2)n1-c1ccc(F)cc1   \n",
              "2        CHEMBL43736  Cc1c(COc2cccc(Cl)c2)cc(-c2ccc(S(C)(=O)=O)cc2)n...   \n",
              "3       CHEMBL140167     Fc1ccc(-c2[nH]c(-c3ccc(F)cc3)c3c2C2CCC3CC2)cc1   \n",
              "4        CHEMBL44194       CCc1ccc(-c2ccc(S(C)(=O)=O)cc2)n1-c1ccc(F)cc1   \n",
              "\n",
              "     IC50_nM  \n",
              "0      60.00  \n",
              "1    3230.00  \n",
              "2      80.00  \n",
              "3       0.12  \n",
              "4  100000.00  "
            ]
          },
          "execution_count": 6,
          "metadata": {},
          "output_type": "execute_result"
        }
      ],
      "source": [
        "# Функция для валидации SMILES\n",
        "def validate_smiles(smiles):\n",
        "    try:\n",
        "        mol = Chem.MolFromSmiles(smiles)\n",
        "        if mol is None:\n",
        "            return False\n",
        "        return True\n",
        "    except:\n",
        "        return False\n",
        "\n",
        "\n",
        "mask = df_final['canonical_smiles'].apply(validate_smiles)\n",
        "df_validated = df_final[mask]\n",
        "\n",
        "print(f\"колво валидных молекул: {len(df_validated)}\")\n",
        "\n",
        "# Финал\n",
        "final_dataset = df_validated[['molecule_chembl_id', 'canonical_smiles', 'standard_value_nM']].reset_index(drop=True)\n",
        "final_dataset.rename(columns={'standard_value_nM': 'IC50_nM'}, inplace=True)\n",
        "\n",
        "\n",
        "final_dataset.head()"
      ]
    },
    {
      "cell_type": "markdown",
      "metadata": {},
      "source": [
        "### 4. Обработать пропущенные значения и дубликаты"
      ]
    },
    {
      "cell_type": "code",
      "execution_count": null,
      "metadata": {
        "colab": {
          "base_uri": "https://localhost:8080/"
        },
        "id": "46s2KwbEHI-9",
        "outputId": "1f914e4b-9b47-424a-ea76-e4c7f6b2b2ef"
      },
      "outputs": [
        {
          "name": "stdout",
          "output_type": "stream",
          "text": [
            "кол-во записей: 5100\n"
          ]
        }
      ],
      "source": [
        "# Удаление дубликатов по SMILES\n",
        "\n",
        "df_final = df_final.sort_values('standard_value_nM', ascending=False)\n",
        "df_final = df_final.drop_duplicates('canonical_smiles', keep='first')\n",
        "df_final.to_csv(\"prep.csv\")\n",
        "\n",
        "print(f\"кол-во записей: {len(df_final)}\")\n"
      ]
    }
  ],
  "metadata": {
    "colab": {
      "provenance": []
    },
    "kernelspec": {
      "display_name": "Python 3",
      "name": "python3"
    },
    "language_info": {
      "codemirror_mode": {
        "name": "ipython",
        "version": 3
      },
      "file_extension": ".py",
      "mimetype": "text/x-python",
      "name": "python",
      "nbconvert_exporter": "python",
      "pygments_lexer": "ipython3",
      "version": "3.12.10"
    }
  },
  "nbformat": 4,
  "nbformat_minor": 0
}
